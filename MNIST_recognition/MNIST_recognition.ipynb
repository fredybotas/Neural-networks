{
 "cells": [
  {
   "cell_type": "markdown",
   "metadata": {},
   "source": [
    "Imports"
   ]
  },
  {
   "cell_type": "code",
   "execution_count": 1,
   "metadata": {
    "collapsed": true
   },
   "outputs": [],
   "source": [
    "import tensorflow as tf\n",
    "import numpy as np\n",
    "from tensorflow.examples.tutorials.mnist import input_data\n",
    "import matplotlib.pyplot as plt\n",
    "%matplotlib inline"
   ]
  },
  {
   "cell_type": "markdown",
   "metadata": {},
   "source": [
    "Initializations"
   ]
  },
  {
   "cell_type": "code",
   "execution_count": 2,
   "metadata": {},
   "outputs": [
    {
     "name": "stdout",
     "output_type": "stream",
     "text": [
      "Extracting ../MNIST_data/train-images-idx3-ubyte.gz\n",
      "Extracting ../MNIST_data/train-labels-idx1-ubyte.gz\n",
      "Extracting ../MNIST_data/t10k-images-idx3-ubyte.gz\n",
      "Extracting ../MNIST_data/t10k-labels-idx1-ubyte.gz\n"
     ]
    }
   ],
   "source": [
    "mnist = input_data.read_data_sets('../MNIST_data', one_hot=True)\n",
    "\n",
    "input_dim = 28 * 28 # number of pixels in one picture\n",
    "h1_dim = 128 # size of hidden layer\n",
    "output_dim = 10 # number of classes (10 digits)\n",
    "\n",
    "learning_rate = 0.01\n",
    "epoch_range = 5000\n",
    "batch_size = 50"
   ]
  },
  {
   "cell_type": "markdown",
   "metadata": {},
   "source": [
    "Xavier initialization for weights"
   ]
  },
  {
   "cell_type": "code",
   "execution_count": 3,
   "metadata": {
    "collapsed": true
   },
   "outputs": [],
   "source": [
    "def xavier_init(size):\n",
    "    in_dim = size[0]\n",
    "    xavier_stddev = 1. / tf.sqrt(in_dim / 2.)\n",
    "    return tf.random_normal(shape=size, stddev=xavier_stddev)"
   ]
  },
  {
   "cell_type": "markdown",
   "metadata": {},
   "source": [
    "Network initialization"
   ]
  },
  {
   "cell_type": "code",
   "execution_count": 4,
   "metadata": {
    "collapsed": true
   },
   "outputs": [],
   "source": [
    "x = tf.placeholder(\"float32\", shape=[None, input_dim])\n",
    "y = tf.placeholder(\"float32\", shape=[None, output_dim])\n",
    "\n",
    "N_W1 = tf.Variable(xavier_init([input_dim, h1_dim]))\n",
    "N_B1 = tf.Variable(np.zeros(shape=[h1_dim]))\n",
    "N_B1 = tf.cast(N_B1, \"float32\")\n",
    "\n",
    "N_W2 = tf.Variable(xavier_init([h1_dim, output_dim]))\n",
    "N_B2 = tf.Variable(np.zeros(shape=output_dim))\n",
    "N_B2 = tf.cast(N_B2, \"float32\")\n",
    "\n",
    "hidden_layer = tf.nn.sigmoid(tf.matmul(x, N_W1) + N_B1)\n",
    "output_layer = tf.matmul(hidden_layer, N_W2) + N_B2"
   ]
  },
  {
   "cell_type": "markdown",
   "metadata": {},
   "source": [
    "Optimizer and loss function"
   ]
  },
  {
   "cell_type": "code",
   "execution_count": 5,
   "metadata": {
    "collapsed": true
   },
   "outputs": [],
   "source": [
    "loss = tf.reduce_mean(tf.nn.softmax_cross_entropy_with_logits(logits=output_layer, labels=y))\n",
    "optimizer = tf.train.AdamOptimizer(learning_rate=learning_rate).minimize(loss)"
   ]
  },
  {
   "cell_type": "markdown",
   "metadata": {},
   "source": [
    "Correct prediction model and accuracy measurements"
   ]
  },
  {
   "cell_type": "code",
   "execution_count": 6,
   "metadata": {
    "collapsed": true
   },
   "outputs": [],
   "source": [
    "prediction = tf.equal(tf.argmax(output_layer, 1), tf.argmax(y, 1))\n",
    "prediction = tf.cast(prediction, \"float32\")\n",
    "accuracy = tf.reduce_mean(prediction)"
   ]
  },
  {
   "cell_type": "markdown",
   "metadata": {},
   "source": [
    "Training cycle with accuracy output"
   ]
  },
  {
   "cell_type": "code",
   "execution_count": 7,
   "metadata": {},
   "outputs": [
    {
     "name": "stdout",
     "output_type": "stream",
     "text": [
      "Training accuracy 0.1\n",
      "Validation accuracy 0.099\n",
      "Training accuracy 0.84\n",
      "Validation accuracy 0.869\n",
      "Training accuracy 0.9\n",
      "Validation accuracy 0.9006\n",
      "Training accuracy 0.9\n",
      "Validation accuracy 0.9286\n",
      "Training accuracy 0.96\n",
      "Validation accuracy 0.9422\n",
      "Training accuracy 0.9\n",
      "Validation accuracy 0.9374\n",
      "Training accuracy 0.98\n",
      "Validation accuracy 0.9502\n",
      "Training accuracy 0.96\n",
      "Validation accuracy 0.9502\n",
      "Training accuracy 0.94\n",
      "Validation accuracy 0.9502\n",
      "Training accuracy 0.98\n",
      "Validation accuracy 0.9402\n",
      "Training accuracy 0.96\n",
      "Validation accuracy 0.958\n",
      "Training accuracy 0.94\n",
      "Validation accuracy 0.9488\n",
      "Training accuracy 0.96\n",
      "Validation accuracy 0.9628\n",
      "Training accuracy 1.0\n",
      "Validation accuracy 0.9606\n",
      "Training accuracy 0.94\n",
      "Validation accuracy 0.967\n",
      "Training accuracy 0.98\n",
      "Validation accuracy 0.964\n",
      "Training accuracy 0.94\n",
      "Validation accuracy 0.9622\n",
      "Training accuracy 0.96\n",
      "Validation accuracy 0.9626\n",
      "Training accuracy 0.96\n",
      "Validation accuracy 0.969\n",
      "Training accuracy 0.96\n",
      "Validation accuracy 0.9644\n",
      "Training accuracy 0.96\n",
      "Validation accuracy 0.9678\n",
      "Training accuracy 1.0\n",
      "Validation accuracy 0.969\n",
      "Training accuracy 0.98\n",
      "Validation accuracy 0.9676\n",
      "Training accuracy 0.94\n",
      "Validation accuracy 0.9724\n",
      "Training accuracy 0.98\n",
      "Validation accuracy 0.9742\n",
      "Training accuracy 1.0\n",
      "Validation accuracy 0.9718\n",
      "Training accuracy 0.92\n",
      "Validation accuracy 0.969\n",
      "Training accuracy 0.98\n",
      "Validation accuracy 0.9734\n",
      "Training accuracy 0.98\n",
      "Validation accuracy 0.9722\n",
      "Training accuracy 0.98\n",
      "Validation accuracy 0.9688\n",
      "Training accuracy 1.0\n",
      "Validation accuracy 0.97\n",
      "Training accuracy 0.98\n",
      "Validation accuracy 0.9696\n",
      "Training accuracy 0.96\n",
      "Validation accuracy 0.9708\n",
      "Training accuracy 0.98\n",
      "Validation accuracy 0.973\n",
      "Training accuracy 0.94\n",
      "Validation accuracy 0.9666\n",
      "Training accuracy 1.0\n",
      "Validation accuracy 0.9728\n",
      "Training accuracy 0.92\n",
      "Validation accuracy 0.9676\n",
      "Training accuracy 1.0\n",
      "Validation accuracy 0.9716\n",
      "Training accuracy 1.0\n",
      "Validation accuracy 0.9714\n",
      "Training accuracy 0.98\n",
      "Validation accuracy 0.9712\n",
      "Training accuracy 1.0\n",
      "Validation accuracy 0.972\n",
      "Training accuracy 0.96\n",
      "Validation accuracy 0.9712\n",
      "Training accuracy 0.96\n",
      "Validation accuracy 0.9728\n",
      "Training accuracy 0.98\n",
      "Validation accuracy 0.969\n",
      "Training accuracy 1.0\n",
      "Validation accuracy 0.9676\n",
      "Training accuracy 1.0\n",
      "Validation accuracy 0.9722\n",
      "Training accuracy 0.96\n",
      "Validation accuracy 0.9728\n",
      "Training accuracy 0.96\n",
      "Validation accuracy 0.9758\n",
      "Training accuracy 1.0\n",
      "Validation accuracy 0.9738\n",
      "Training accuracy 0.92\n",
      "Validation accuracy 0.9686\n"
     ]
    }
   ],
   "source": [
    "sess = tf.InteractiveSession()\n",
    "init = tf.global_variables_initializer()\n",
    "sess.run(init)\n",
    "\n",
    "for epoch in range(epoch_range):\n",
    "    batch_x, batch_y = mnist.train.next_batch(batch_size=batch_size)\n",
    "    if epoch % 100 == 0:\n",
    "        training = accuracy.eval({x: batch_x, y:batch_y})\n",
    "        validation = accuracy.eval({x: mnist.validation.images, y:mnist.validation.labels})\n",
    "        print(\"Training accuracy \" + str(training))\n",
    "        print(\"Validation accuracy \" + str(validation))\n",
    "\n",
    "    sess.run([optimizer, loss], feed_dict={x:batch_x, y:batch_y})"
   ]
  },
  {
   "cell_type": "markdown",
   "metadata": {},
   "source": [
    "Try to predict a number"
   ]
  },
  {
   "cell_type": "code",
   "execution_count": 8,
   "metadata": {},
   "outputs": [
    {
     "name": "stdout",
     "output_type": "stream",
     "text": [
      "[1]\n"
     ]
    },
    {
     "data": {
      "image/png": "[encoded data removed]",
      "text/plain": [
       "<matplotlib.figure.Figure at 0x110432668>"
      ]
     },
     "metadata": {},
     "output_type": "display_data"
    }
   ],
   "source": [
    "test_number = mnist.test.images[5]\n",
    "plt.imshow(test_number.reshape(28,28), cmap=\"Greys\");\n",
    "predict = tf.argmax(output_layer, 1)\n",
    "print(predict.eval({x:test_number.reshape(1,28*28)}))"
   ]
  }
 ],
 "metadata": {
  "kernelspec": {
   "display_name": "Python 3",
   "language": "python",
   "name": "python3"
  },
  "language_info": {
   "codemirror_mode": {
    "name": "ipython",
    "version": 3.0
   },
   "file_extension": ".py",
   "mimetype": "text/x-python",
   "name": "python",
   "nbconvert_exporter": "python",
   "pygments_lexer": "ipython3",
   "version": "3.6.2"
  }
 },
 "nbformat": 4,
 "nbformat_minor": 0
}