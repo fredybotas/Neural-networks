{
 "cells": [
  {
   "cell_type": "markdown",
   "metadata": {},
   "source": [
    "Imports"
   ]
  },
  {
   "cell_type": "code",
   "execution_count": 1,
   "metadata": {
    "collapsed": true
   },
   "outputs": [],
   "source": [
    "import tensorflow as tf\n",
    "import numpy as np\n",
    "from tensorflow.examples.tutorials.mnist import input_data"
   ]
  },
  {
   "cell_type": "markdown",
   "metadata": {},
   "source": [
    "Initializations"
   ]
  },
  {
   "cell_type": "code",
   "execution_count": 2,
   "metadata": {},
   "outputs": [
    {
     "name": "stdout",
     "output_type": "stream",
     "text": [
      "Extracting MNIST_data/train-images-idx3-ubyte.gz\n",
      "Extracting MNIST_data/train-labels-idx1-ubyte.gz\n",
      "Extracting MNIST_data/t10k-images-idx3-ubyte.gz\n",
      "Extracting MNIST_data/t10k-labels-idx1-ubyte.gz\n"
     ]
    }
   ],
   "source": [
    "mnist = input_data.read_data_sets('MNIST_data', one_hot=True)\n",
    "\n",
    "input_dim = 28 * 28 # number of pixels in one picture\n",
    "h1_dim = 128 # size of hidden layer\n",
    "output_dim = 10 # number of classes (10 digits)\n",
    "\n",
    "learning_rate = 0.01\n",
    "epoch_range = 5000\n",
    "batch_size = 50"
   ]
  },
  {
   "cell_type": "markdown",
   "metadata": {},
   "source": [
    "Xavier initialization for weights"
   ]
  },
  {
   "cell_type": "code",
   "execution_count": 3,
   "metadata": {
    "collapsed": true
   },
   "outputs": [],
   "source": [
    "def xavier_init(size):\n",
    "    in_dim = size[0]\n",
    "    xavier_stddev = 1. / tf.sqrt(in_dim / 2.)\n",
    "    return tf.random_normal(shape=size, stddev=xavier_stddev)"
   ]
  },
  {
   "cell_type": "markdown",
   "metadata": {},
   "source": [
    "Network initialization"
   ]
  },
  {
   "cell_type": "code",
   "execution_count": 4,
   "metadata": {
    "collapsed": true
   },
   "outputs": [],
   "source": [
    "x = tf.placeholder(\"float32\", shape=[None, input_dim])\n",
    "y = tf.placeholder(\"float32\", shape=[None, output_dim])\n",
    "\n",
    "N_W1 = tf.Variable(xavier_init([input_dim, h1_dim]))\n",
    "N_B1 = tf.Variable(np.zeros(shape=[h1_dim]))\n",
    "N_B1 = tf.cast(N_B1, \"float32\")\n",
    "\n",
    "N_W2 = tf.Variable(xavier_init([h1_dim, output_dim]))\n",
    "N_B2 = tf.Variable(np.zeros(shape=output_dim))\n",
    "N_B2 = tf.cast(N_B2, \"float32\")\n",
    "\n",
    "hidden_layer = tf.nn.sigmoid(tf.matmul(x, N_W1) + N_B1)\n",
    "output_layer = tf.matmul(hidden_layer, N_W2) + N_B2"
   ]
  },
  {
   "cell_type": "markdown",
   "metadata": {},
   "source": [
    "Optimizer and loss function"
   ]
  },
  {
   "cell_type": "code",
   "execution_count": 5,
   "metadata": {
    "collapsed": true
   },
   "outputs": [],
   "source": [
    "loss = tf.reduce_mean(tf.nn.softmax_cross_entropy_with_logits(logits=output_layer, labels=y))\n",
    "optimizer = tf.train.AdamOptimizer(learning_rate=learning_rate).minimize(loss)"
   ]
  },
  {
   "cell_type": "markdown",
   "metadata": {},
   "source": [
    "Correct prediction model and accuracy measurements"
   ]
  },
  {
   "cell_type": "code",
   "execution_count": 6,
   "metadata": {},
   "outputs": [],
   "source": [
    "prediction = tf.equal(tf.argmax(output_layer, 1), tf.argmax(y, 1))\n",
    "prediction = tf.cast(prediction, \"float32\")\n",
    "accuracy = tf.reduce_mean(prediction)"
   ]
  },
  {
   "cell_type": "markdown",
   "metadata": {},
   "source": [
    "Training cycle with accuracy output"
   ]
  },
  {
   "cell_type": "code",
   "execution_count": 7,
   "metadata": {},
   "outputs": [
    {
     "name": "stdout",
     "output_type": "stream",
     "text": [
      "Training accuracy 0.02\n",
      "Validation accuracy 0.1088\n",
      "Training accuracy 0.84\n",
      "Validation accuracy 0.8626\n",
      "Training accuracy 0.94\n",
      "Validation accuracy 0.9038\n",
      "Training accuracy 0.88\n",
      "Validation accuracy 0.9346\n",
      "Training accuracy 0.98\n",
      "Validation accuracy 0.9434\n",
      "Training accuracy 0.9\n",
      "Validation accuracy 0.9412\n",
      "Training accuracy 0.98\n",
      "Validation accuracy 0.9482\n",
      "Training accuracy 0.96\n",
      "Validation accuracy 0.9522\n",
      "Training accuracy 0.92\n",
      "Validation accuracy 0.9564\n",
      "Training accuracy 0.96\n",
      "Validation accuracy 0.9438\n",
      "Training accuracy 0.96\n",
      "Validation accuracy 0.961\n",
      "Training accuracy 0.96\n",
      "Validation accuracy 0.9544\n",
      "Training accuracy 0.96\n",
      "Validation accuracy 0.9644\n",
      "Training accuracy 0.98\n",
      "Validation accuracy 0.9688\n",
      "Training accuracy 1.0\n",
      "Validation accuracy 0.969\n",
      "Training accuracy 0.94\n",
      "Validation accuracy 0.964\n",
      "Training accuracy 0.94\n",
      "Validation accuracy 0.9674\n",
      "Training accuracy 0.98\n",
      "Validation accuracy 0.9692\n",
      "Training accuracy 0.94\n",
      "Validation accuracy 0.9678\n",
      "Training accuracy 0.98\n",
      "Validation accuracy 0.968\n",
      "Training accuracy 0.94\n",
      "Validation accuracy 0.968\n",
      "Training accuracy 0.98\n",
      "Validation accuracy 0.9686\n",
      "Training accuracy 0.96\n",
      "Validation accuracy 0.9626\n",
      "Training accuracy 1.0\n",
      "Validation accuracy 0.9672\n",
      "Training accuracy 0.98\n",
      "Validation accuracy 0.9628\n",
      "Training accuracy 0.94\n",
      "Validation accuracy 0.9722\n",
      "Training accuracy 0.96\n",
      "Validation accuracy 0.9682\n",
      "Training accuracy 0.96\n",
      "Validation accuracy 0.9666\n",
      "Training accuracy 1.0\n",
      "Validation accuracy 0.9684\n",
      "Training accuracy 0.98\n",
      "Validation accuracy 0.9658\n",
      "Training accuracy 0.92\n",
      "Validation accuracy 0.9646\n",
      "Training accuracy 0.98\n",
      "Validation accuracy 0.9688\n",
      "Training accuracy 0.98\n",
      "Validation accuracy 0.9698\n",
      "Training accuracy 0.96\n",
      "Validation accuracy 0.9696\n",
      "Training accuracy 0.98\n",
      "Validation accuracy 0.9674\n",
      "Training accuracy 0.96\n",
      "Validation accuracy 0.9698\n",
      "Training accuracy 1.0\n",
      "Validation accuracy 0.9642\n",
      "Training accuracy 0.98\n",
      "Validation accuracy 0.9654\n",
      "Training accuracy 1.0\n",
      "Validation accuracy 0.9748\n",
      "Training accuracy 1.0\n",
      "Validation accuracy 0.9718\n",
      "Training accuracy 0.98\n",
      "Validation accuracy 0.9718\n",
      "Training accuracy 1.0\n",
      "Validation accuracy 0.974\n",
      "Training accuracy 1.0\n",
      "Validation accuracy 0.974\n",
      "Training accuracy 1.0\n",
      "Validation accuracy 0.9698\n",
      "Training accuracy 1.0\n",
      "Validation accuracy 0.9684\n",
      "Training accuracy 1.0\n",
      "Validation accuracy 0.9708\n",
      "Training accuracy 0.98\n",
      "Validation accuracy 0.9698\n",
      "Training accuracy 1.0\n",
      "Validation accuracy 0.972\n",
      "Training accuracy 1.0\n",
      "Validation accuracy 0.9702\n",
      "Training accuracy 0.98\n",
      "Validation accuracy 0.9744\n"
     ]
    }
   ],
   "source": [
    "sess = tf.InteractiveSession()\n",
    "init = tf.global_variables_initializer()\n",
    "sess.run(init)\n",
    "\n",
    "for epoch in range(epoch_range):\n",
    "    batch_x, batch_y = mnist.train.next_batch(batch_size=batch_size)\n",
    "    if epoch % 100 == 0:\n",
    "        training = accuracy.eval({x: batch_x, y:batch_y})\n",
    "        validation = accuracy.eval({x: mnist.validation.images, y:mnist.validation.labels})\n",
    "        print(\"Training accuracy \" + str(training))\n",
    "        print(\"Validation accuracy \" + str(validation))\n",
    "\n",
    "    sess.run([optimizer, loss], feed_dict={x:batch_x, y:batch_y})"
   ]
  }
 ],
 "metadata": {
  "kernelspec": {
   "display_name": "Python 3",
   "language": "python",
   "name": "python3"
  },
  "language_info": {
   "codemirror_mode": {
    "name": "ipython",
    "version": 3.0
   },
   "file_extension": ".py",
   "mimetype": "text/x-python",
   "name": "python",
   "nbconvert_exporter": "python",
   "pygments_lexer": "ipython3",
   "version": "3.6.2"
  }
 },
 "nbformat": 4,
 "nbformat_minor": 0
}