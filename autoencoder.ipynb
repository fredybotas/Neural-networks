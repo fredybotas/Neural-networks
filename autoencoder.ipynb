{
  "nbformat": 4,
  "nbformat_minor": 0,
  "metadata": {
    "colab": {
      "name": "autoencoder.ipynb",
      "version": "0.3.2",
      "views": {},
      "default_view": {},
      "provenance": [],
      "toc_visible": true
    },
    "kernelspec": {
      "name": "python3",
      "display_name": "Python 3"
    },
    "accelerator": "GPU"
  },
  "cells": [
    {
      "metadata": {
        "id": "4uid_P1nKmwm",
        "colab_type": "code",
        "colab": {
          "autoexec": {
            "startup": false,
            "wait_interval": 0
          },
          "base_uri": "https://localhost:8080/",
          "height": 3497
        },
        "outputId": "e836563d-70b9-4f5a-f5ed-555771016527",
        "executionInfo": {
          "status": "ok",
          "timestamp": 1523472217214,
          "user_tz": -120,
          "elapsed": 585100,
          "user": {
            "displayName": "Michal Maňak",
            "photoUrl": "//lh5.googleusercontent.com/-W_mzq3fRDHk/AAAAAAAAAAI/AAAAAAAAAQY/39YJpez-low/s50-c-k-no/photo.jpg",
            "userId": "100798625638421505769"
          }
        }
      },
      "cell_type": "code",
      "source": [
        "from keras.layers import Input, Dense, Conv2D, MaxPooling2D, UpSampling2D, Reshape, Dropout\n",
        "from keras.models import Model\n",
        "from keras.callbacks import TensorBoard\n",
        "import numpy as np\n",
        "from keras import backend as K\n",
        "import matplotlib.pyplot as plt\n",
        "from keras.models import load_model\n",
        "from keras.datasets import mnist\n",
        "from keras import backend as K\n",
        "K.tensorflow_backend._get_available_gpus()\n",
        "\n",
        "input_encoder = Input(shape=(28, 28, 1))\n",
        "\n",
        "def encoder(x):\n",
        "    conv1 = Conv2D(32, (3, 3), activation='relu', padding='same')(x)\n",
        "    maxpool1 = MaxPooling2D((2, 2), padding='same')(conv1)\n",
        "    conv2 = Conv2D(16, (3, 3), activation='relu', padding='same')(maxpool1)\n",
        "    maxpool2 = MaxPooling2D((2, 2), padding='same')(conv2)\n",
        "    conv3 = Conv2D(4, (3, 3), activation='relu', padding='same')(maxpool2)\n",
        "    maxpool3 = MaxPooling2D((2, 2), padding='same')(conv3)\n",
        "    return maxpool3\n",
        "\n",
        "input_decoder = Input(shape=(4, 4, 4))\n",
        "\n",
        "def decoder(x):\n",
        "    resize1 = UpSampling2D((2, 2))(x)\n",
        "    conv1 = Conv2D(4, (3, 3), activation='relu', padding='same')(resize1)\n",
        "    resize2 = UpSampling2D((2, 2))(conv1)\n",
        "    conv2 = Conv2D(16, (3, 3), activation='relu')(resize2)\n",
        "    resize3 = UpSampling2D((2, 2))(conv2)\n",
        "    conv3 = Conv2D(32, (3, 3), activation='relu', padding='same')(resize3)\n",
        "    return Conv2D(1, (5, 5), activation='sigmoid', padding='same', name=\"decoder_output\")(conv3)\n",
        "\n",
        "autoencoder = Model(input_encoder, decoder(encoder(input_encoder)))\n",
        "autoencoder.compile(optimizer='adam', loss='binary_crossentropy')\n",
        "print(autoencoder.summary())\n",
        "\n",
        "encoder = autoencoder.layers[1](input_encoder)\n",
        "encoder = autoencoder.layers[2](encoder)\n",
        "encoder = autoencoder.layers[3](encoder)\n",
        "encoder = autoencoder.layers[4](encoder)\n",
        "encoder = autoencoder.layers[5](encoder)\n",
        "encoder = autoencoder.layers[6](encoder)\n",
        "encoder = Model(input_encoder, encoder)\n",
        "print(encoder.summary())\n",
        "\n",
        "decoder = autoencoder.layers[-7](input_decoder)\n",
        "decoder = autoencoder.layers[-6](decoder)\n",
        "decoder = autoencoder.layers[-5](decoder)\n",
        "decoder = autoencoder.layers[-4](decoder)\n",
        "decoder = autoencoder.layers[-3](decoder)\n",
        "decoder = autoencoder.layers[-2](decoder)\n",
        "decoder = autoencoder.layers[-1](decoder)\n",
        "decoder = Model(input_decoder, decoder)\n",
        "print(decoder.summary())\n",
        "\n",
        "(x_train, _), (x_test, _) = mnist.load_data()\n",
        "\n",
        "x_train = x_train.astype('float32') / 255.\n",
        "x_test = x_test.astype('float32') / 255.\n",
        "x_train = np.reshape(x_train, (len(x_train), 28, 28, 1))\n",
        "x_test = np.reshape(x_test, (len(x_test), 28, 28, 1))\n",
        "autoencoder.fit(x_train, x_train,\n",
        "                epochs=50,\n",
        "                batch_size=128,\n",
        "                shuffle=True,\n",
        "                validation_data=(x_test, x_test))\n",
        "\n",
        "\n",
        "\n",
        "decoded_imgs = autoencoder.predict(x_test)\n",
        "\n",
        "n = 10\n",
        "plt.figure(figsize=(20, 4))\n",
        "for i in range(n):\n",
        "    ax = plt.subplot(2, n, i + 1)\n",
        "    plt.imshow(x_test[i].reshape(28, 28))\n",
        "    plt.gray()\n",
        "    ax.get_xaxis().set_visible(False)\n",
        "    ax.get_yaxis().set_visible(False)\n",
        "\n",
        "    ax = plt.subplot(2, n, i + n + 1)\n",
        "    plt.imshow(decoded_imgs[i].reshape(28, 28))\n",
        "    plt.gray()\n",
        "    ax.get_xaxis().set_visible(False)\n",
        "    ax.get_yaxis().set_visible(False)\n",
        "plt.show()"
      ],
      "execution_count": 16,
      "outputs": [
        {
          "output_type": "stream",
          "text": [
            "_________________________________________________________________\n",
            "Layer (type)                 Output Shape              Param #   \n",
            "=================================================================\n",
            "input_13 (InputLayer)        (None, 28, 28, 1)         0         \n",
            "_________________________________________________________________\n",
            "conv2d_32 (Conv2D)           (None, 28, 28, 32)        320       \n",
            "_________________________________________________________________\n",
            "max_pooling2d_17 (MaxPooling (None, 14, 14, 32)        0         \n",
            "_________________________________________________________________\n",
            "conv2d_33 (Conv2D)           (None, 14, 14, 16)        4624      \n",
            "_________________________________________________________________\n",
            "max_pooling2d_18 (MaxPooling (None, 7, 7, 16)          0         \n",
            "_________________________________________________________________\n",
            "conv2d_34 (Conv2D)           (None, 7, 7, 4)           580       \n",
            "_________________________________________________________________\n",
            "max_pooling2d_19 (MaxPooling (None, 4, 4, 4)           0         \n",
            "_________________________________________________________________\n",
            "up_sampling2d_16 (UpSampling (None, 8, 8, 4)           0         \n",
            "_________________________________________________________________\n",
            "conv2d_35 (Conv2D)           (None, 8, 8, 4)           148       \n",
            "_________________________________________________________________\n",
            "up_sampling2d_17 (UpSampling (None, 16, 16, 4)         0         \n",
            "_________________________________________________________________\n",
            "conv2d_36 (Conv2D)           (None, 14, 14, 16)        592       \n",
            "_________________________________________________________________\n",
            "up_sampling2d_18 (UpSampling (None, 28, 28, 16)        0         \n",
            "_________________________________________________________________\n",
            "conv2d_37 (Conv2D)           (None, 28, 28, 32)        4640      \n",
            "_________________________________________________________________\n",
            "decoder_output (Conv2D)      (None, 28, 28, 1)         801       \n",
            "=================================================================\n",
            "Total params: 11,705\n",
            "Trainable params: 11,705\n",
            "Non-trainable params: 0\n",
            "_________________________________________________________________\n",
            "None\n",
            "_________________________________________________________________\n",
            "Layer (type)                 Output Shape              Param #   \n",
            "=================================================================\n",
            "input_13 (InputLayer)        (None, 28, 28, 1)         0         \n",
            "_________________________________________________________________\n",
            "conv2d_32 (Conv2D)           (None, 28, 28, 32)        320       \n",
            "_________________________________________________________________\n",
            "max_pooling2d_17 (MaxPooling (None, 14, 14, 32)        0         \n",
            "_________________________________________________________________\n",
            "conv2d_33 (Conv2D)           (None, 14, 14, 16)        4624      \n",
            "_________________________________________________________________\n",
            "max_pooling2d_18 (MaxPooling (None, 7, 7, 16)          0         \n",
            "_________________________________________________________________\n",
            "conv2d_34 (Conv2D)           (None, 7, 7, 4)           580       \n",
            "_________________________________________________________________\n",
            "max_pooling2d_19 (MaxPooling (None, 4, 4, 4)           0         \n",
            "=================================================================\n",
            "Total params: 5,524\n",
            "Trainable params: 5,524\n",
            "Non-trainable params: 0\n",
            "_________________________________________________________________\n",
            "None\n",
            "_________________________________________________________________\n",
            "Layer (type)                 Output Shape              Param #   \n",
            "=================================================================\n",
            "input_14 (InputLayer)        (None, 4, 4, 4)           0         \n",
            "_________________________________________________________________\n",
            "up_sampling2d_16 (UpSampling (None, 8, 8, 4)           0         \n",
            "_________________________________________________________________\n",
            "conv2d_35 (Conv2D)           (None, 8, 8, 4)           148       \n",
            "_________________________________________________________________\n",
            "up_sampling2d_17 (UpSampling (None, 16, 16, 4)         0         \n",
            "_________________________________________________________________\n",
            "conv2d_36 (Conv2D)           (None, 14, 14, 16)        592       \n",
            "_________________________________________________________________\n",
            "up_sampling2d_18 (UpSampling (None, 28, 28, 16)        0         \n",
            "_________________________________________________________________\n",
            "conv2d_37 (Conv2D)           (None, 28, 28, 32)        4640      \n",
            "_________________________________________________________________\n",
            "decoder_output (Conv2D)      (None, 28, 28, 1)         801       \n",
            "=================================================================\n",
            "Total params: 6,181\n",
            "Trainable params: 6,181\n",
            "Non-trainable params: 0\n",
            "_________________________________________________________________\n",
            "None\n",
            "Train on 60000 samples, validate on 10000 samples\n",
            "Epoch 1/50\n",
            " 4992/60000 [=>............................] - ETA: 15s - loss: 0.4877"
          ],
          "name": "stdout"
        },
        {
          "output_type": "stream",
          "text": [
            "60000/60000 [==============================] - 12s 202us/step - loss: 0.2050 - val_loss: 0.1469\n",
            "Epoch 2/50\n",
            "60000/60000 [==============================] - 12s 194us/step - loss: 0.1360 - val_loss: 0.1269\n",
            "Epoch 3/50\n",
            "60000/60000 [==============================] - 12s 194us/step - loss: 0.1229 - val_loss: 0.1185\n",
            "Epoch 4/50\n",
            "10112/60000 [====>.........................] - ETA: 9s - loss: 0.1196"
          ],
          "name": "stdout"
        },
        {
          "output_type": "stream",
          "text": [
            "60000/60000 [==============================] - 12s 194us/step - loss: 0.1165 - val_loss: 0.1135\n",
            "Epoch 5/50\n",
            "60000/60000 [==============================] - 12s 195us/step - loss: 0.1129 - val_loss: 0.1104\n",
            "Epoch 6/50\n",
            "60000/60000 [==============================] - 12s 192us/step - loss: 0.1102 - val_loss: 0.1078\n",
            "Epoch 7/50\n",
            "10496/60000 [====>.........................] - ETA: 9s - loss: 0.1091"
          ],
          "name": "stdout"
        },
        {
          "output_type": "stream",
          "text": [
            "60000/60000 [==============================] - 12s 195us/step - loss: 0.1082 - val_loss: 0.1061\n",
            "Epoch 8/50\n",
            "60000/60000 [==============================] - 12s 195us/step - loss: 0.1067 - val_loss: 0.1051\n",
            "Epoch 9/50\n",
            "60000/60000 [==============================] - 12s 194us/step - loss: 0.1054 - val_loss: 0.1035\n",
            "Epoch 10/50\n",
            "10496/60000 [====>.........................] - ETA: 9s - loss: 0.1044"
          ],
          "name": "stdout"
        },
        {
          "output_type": "stream",
          "text": [
            "60000/60000 [==============================] - 12s 195us/step - loss: 0.1043 - val_loss: 0.1028\n",
            "Epoch 11/50\n",
            "60000/60000 [==============================] - 12s 193us/step - loss: 0.1033 - val_loss: 0.1024\n",
            "Epoch 12/50\n",
            "60000/60000 [==============================] - 12s 193us/step - loss: 0.1025 - val_loss: 0.1025\n",
            "Epoch 13/50\n",
            "10752/60000 [====>.........................] - ETA: 9s - loss: 0.1025"
          ],
          "name": "stdout"
        },
        {
          "output_type": "stream",
          "text": [
            "60000/60000 [==============================] - 12s 194us/step - loss: 0.1017 - val_loss: 0.1010\n",
            "Epoch 14/50\n",
            "60000/60000 [==============================] - 12s 194us/step - loss: 0.1010 - val_loss: 0.0994\n",
            "Epoch 15/50\n",
            "60000/60000 [==============================] - 12s 194us/step - loss: 0.1004 - val_loss: 0.0989\n",
            "Epoch 16/50\n",
            "10112/60000 [====>.........................] - ETA: 9s - loss: 0.1001"
          ],
          "name": "stdout"
        },
        {
          "output_type": "stream",
          "text": [
            "60000/60000 [==============================] - 12s 194us/step - loss: 0.0999 - val_loss: 0.0987\n",
            "Epoch 17/50\n",
            "60000/60000 [==============================] - 12s 194us/step - loss: 0.0994 - val_loss: 0.0980\n",
            "Epoch 18/50\n",
            "60000/60000 [==============================] - 12s 193us/step - loss: 0.0990 - val_loss: 0.0978\n",
            "Epoch 19/50\n",
            "10496/60000 [====>.........................] - ETA: 9s - loss: 0.0986"
          ],
          "name": "stdout"
        },
        {
          "output_type": "stream",
          "text": [
            "60000/60000 [==============================] - 12s 196us/step - loss: 0.0986 - val_loss: 0.0987\n",
            "Epoch 20/50\n",
            "60000/60000 [==============================] - 12s 193us/step - loss: 0.0982 - val_loss: 0.0976\n",
            "Epoch 21/50\n",
            "60000/60000 [==============================] - 12s 194us/step - loss: 0.0979 - val_loss: 0.0968\n",
            "Epoch 22/50\n",
            "10368/60000 [====>.........................] - ETA: 9s - loss: 0.0973"
          ],
          "name": "stdout"
        },
        {
          "output_type": "stream",
          "text": [
            "60000/60000 [==============================] - 12s 194us/step - loss: 0.0976 - val_loss: 0.0964\n",
            "Epoch 23/50\n",
            "60000/60000 [==============================] - 12s 194us/step - loss: 0.0973 - val_loss: 0.0961\n",
            "Epoch 24/50\n",
            "60000/60000 [==============================] - 12s 193us/step - loss: 0.0971 - val_loss: 0.0958\n",
            "Epoch 25/50\n",
            " 9984/60000 [===>..........................] - ETA: 9s - loss: 0.0966"
          ],
          "name": "stdout"
        },
        {
          "output_type": "stream",
          "text": [
            "60000/60000 [==============================] - 12s 193us/step - loss: 0.0968 - val_loss: 0.0959\n",
            "Epoch 26/50\n",
            "60000/60000 [==============================] - 12s 193us/step - loss: 0.0965 - val_loss: 0.0955\n",
            "Epoch 27/50\n",
            "60000/60000 [==============================] - 12s 193us/step - loss: 0.0963 - val_loss: 0.0954\n",
            "Epoch 28/50\n",
            "10880/60000 [====>.........................] - ETA: 9s - loss: 0.0955"
          ],
          "name": "stdout"
        },
        {
          "output_type": "stream",
          "text": [
            "60000/60000 [==============================] - 12s 193us/step - loss: 0.0962 - val_loss: 0.0957\n",
            "Epoch 29/50\n",
            "60000/60000 [==============================] - 12s 194us/step - loss: 0.0959 - val_loss: 0.0947\n",
            "Epoch 30/50\n",
            "60000/60000 [==============================] - 12s 194us/step - loss: 0.0957 - val_loss: 0.0946\n",
            "Epoch 31/50\n",
            " 9088/60000 [===>..........................] - ETA: 9s - loss: 0.0956"
          ],
          "name": "stdout"
        },
        {
          "output_type": "stream",
          "text": [
            "60000/60000 [==============================] - 12s 195us/step - loss: 0.0955 - val_loss: 0.0943\n",
            "Epoch 32/50\n",
            "60000/60000 [==============================] - 12s 194us/step - loss: 0.0953 - val_loss: 0.0942\n",
            "Epoch 33/50\n",
            "60000/60000 [==============================] - 12s 196us/step - loss: 0.0952 - val_loss: 0.0940\n",
            "Epoch 34/50\n",
            " 7424/60000 [==>...........................] - ETA: 9s - loss: 0.0952 "
          ],
          "name": "stdout"
        },
        {
          "output_type": "stream",
          "text": [
            "60000/60000 [==============================] - 12s 193us/step - loss: 0.0949 - val_loss: 0.0948\n",
            "Epoch 35/50\n",
            "60000/60000 [==============================] - 11s 191us/step - loss: 0.0948 - val_loss: 0.0935\n",
            "Epoch 36/50\n",
            "60000/60000 [==============================] - 11s 191us/step - loss: 0.0946 - val_loss: 0.0934\n",
            "Epoch 37/50\n",
            "11776/60000 [====>.........................] - ETA: 8s - loss: 0.0946"
          ],
          "name": "stdout"
        },
        {
          "output_type": "stream",
          "text": [
            "60000/60000 [==============================] - 11s 191us/step - loss: 0.0946 - val_loss: 0.0935\n",
            "Epoch 38/50\n",
            "60000/60000 [==============================] - 12s 194us/step - loss: 0.0943 - val_loss: 0.0931\n",
            "Epoch 39/50\n",
            "60000/60000 [==============================] - 12s 192us/step - loss: 0.0942 - val_loss: 0.0932\n",
            "Epoch 40/50\n",
            "10240/60000 [====>.........................] - ETA: 9s - loss: 0.0941"
          ],
          "name": "stdout"
        },
        {
          "output_type": "stream",
          "text": [
            "60000/60000 [==============================] - 12s 197us/step - loss: 0.0940 - val_loss: 0.0932\n",
            "Epoch 41/50\n",
            "60000/60000 [==============================] - 12s 195us/step - loss: 0.0939 - val_loss: 0.0928\n",
            "Epoch 42/50\n",
            "60000/60000 [==============================] - 12s 193us/step - loss: 0.0939 - val_loss: 0.0928\n",
            "Epoch 43/50\n",
            "10368/60000 [====>.........................] - ETA: 9s - loss: 0.0935"
          ],
          "name": "stdout"
        },
        {
          "output_type": "stream",
          "text": [
            "60000/60000 [==============================] - 12s 194us/step - loss: 0.0936 - val_loss: 0.0925\n",
            "Epoch 44/50\n",
            "60000/60000 [==============================] - 12s 194us/step - loss: 0.0935 - val_loss: 0.0923\n",
            "Epoch 45/50\n",
            "60000/60000 [==============================] - 12s 194us/step - loss: 0.0934 - val_loss: 0.0923\n",
            "Epoch 46/50\n",
            " 8832/60000 [===>..........................] - ETA: 9s - loss: 0.0933"
          ],
          "name": "stdout"
        },
        {
          "output_type": "stream",
          "text": [
            "60000/60000 [==============================] - 12s 194us/step - loss: 0.0932 - val_loss: 0.0919\n",
            "Epoch 47/50\n",
            "60000/60000 [==============================] - 12s 192us/step - loss: 0.0931 - val_loss: 0.0926\n",
            "Epoch 48/50\n",
            "60000/60000 [==============================] - 11s 191us/step - loss: 0.0930 - val_loss: 0.0918\n",
            "Epoch 49/50\n",
            "11264/60000 [====>.........................] - ETA: 8s - loss: 0.0933"
          ],
          "name": "stdout"
        },
        {
          "output_type": "stream",
          "text": [
            "60000/60000 [==============================] - 11s 191us/step - loss: 0.0929 - val_loss: 0.0920\n",
            "Epoch 50/50\n",
            "60000/60000 [==============================] - 11s 191us/step - loss: 0.0928 - val_loss: 0.0914\n"
          ],
          "name": "stdout"
        },
        {
          "output_type": "display_data",
          "data": {
            "image/png": "[encoded data removed]",
            "text/plain": [
              "<matplotlib.figure.Figure at 0x7f628f625ac8>"
            ]
          },
          "metadata": {
            "tags": []
          }
        }
      ]
    },
    {
      "metadata": {
        "id": "tPAMzyXD5ZTk",
        "colab_type": "code",
        "colab": {
          "autoexec": {
            "startup": false,
            "wait_interval": 0
          },
          "base_uri": "https://localhost:8080/",
          "height": 105
        },
        "outputId": "366bc07e-354e-426b-b3d8-238011e6921f",
        "executionInfo": {
          "status": "ok",
          "timestamp": 1523473817597,
          "user_tz": -120,
          "elapsed": 70312,
          "user": {
            "displayName": "Michal Maňak",
            "photoUrl": "//lh5.googleusercontent.com/-W_mzq3fRDHk/AAAAAAAAAAI/AAAAAAAAAQY/39YJpez-low/s50-c-k-no/photo.jpg",
            "userId": "100798625638421505769"
          }
        }
      },
      "cell_type": "code",
      "source": [
        "from sklearn import mixture\n",
        "\n",
        "(x_train, y_train), (x_test, _) = mnist.load_data()\n",
        "\n",
        "x_train = x_train.astype('float32') / 255.\n",
        "x_train = np.reshape(x_train, (len(x_train), 28, 28, 1))\n",
        "\n",
        "x_train = encoder.predict(x_train)\n",
        "\n",
        "data_gmm = x_train.reshape(x_train.shape[0], -1)\n",
        "print(data_gmm.shape)\n",
        "\n",
        "gmm_full = mixture.GaussianMixture(n_components=10, covariance_type='full')\n",
        "gmm_full.fit(data_gmm)\n"
      ],
      "execution_count": 29,
      "outputs": [
        {
          "output_type": "stream",
          "text": [
            "(60000, 64)\n"
          ],
          "name": "stdout"
        },
        {
          "output_type": "execute_result",
          "data": {
            "text/plain": [
              "GaussianMixture(covariance_type='full', init_params='kmeans', max_iter=100,\n",
              "        means_init=None, n_components=10, n_init=1, precisions_init=None,\n",
              "        random_state=None, reg_covar=1e-06, tol=0.001, verbose=0,\n",
              "        verbose_interval=10, warm_start=False, weights_init=None)"
            ]
          },
          "metadata": {
            "tags": []
          },
          "execution_count": 29
        }
      ]
    },
    {
      "metadata": {
        "id": "tymNB8mfBasK",
        "colab_type": "code",
        "colab": {
          "autoexec": {
            "startup": false,
            "wait_interval": 0
          },
          "base_uri": "https://localhost:8080/",
          "height": 142
        },
        "outputId": "d0dfb69d-05b5-4fae-b70d-8bde8c9a1fbb",
        "executionInfo": {
          "status": "ok",
          "timestamp": 1523474213253,
          "user_tz": -120,
          "elapsed": 1262,
          "user": {
            "displayName": "Michal Maňak",
            "photoUrl": "//lh5.googleusercontent.com/-W_mzq3fRDHk/AAAAAAAAAAI/AAAAAAAAAQY/39YJpez-low/s50-c-k-no/photo.jpg",
            "userId": "100798625638421505769"
          }
        }
      },
      "cell_type": "code",
      "source": [
        "real_x = x_train\n",
        "real_x = real_x.reshape(real_x.shape[0], -1)\n",
        "print(real_x.shape)\n",
        "\n",
        "def gmm(samples_count):\n",
        "    return np.array(gmm_full.sample(samples_count)[0])\n",
        "    \n",
        "def prepare_data(dim):\n",
        "    data_x = np.concatenate([real_x[:dim // 2], gmm(dim // 2)])\n",
        "    data_y = np.concatenate([np.ones(dim // 2), np.zeros(dim // 2)])\n",
        "    return data_x, data_y\n",
        "\n",
        "n = 10\n",
        "plt.figure(figsize=(20, 4))\n",
        "for i in range(n):\n",
        "    ax = plt.subplot(2, n, i + 1)\n",
        "    plt.imshow(decoder.predict(gmm(1).reshape(1, 4, 4, 4)).reshape(28, 28))\n",
        "    plt.gray()\n",
        "    ax.get_xaxis().set_visible(False)\n",
        "    ax.get_yaxis().set_visible(False)\n",
        "plt.show()"
      ],
      "execution_count": 34,
      "outputs": [
        {
          "output_type": "stream",
          "text": [
            "(60000, 64)\n"
          ],
          "name": "stdout"
        },
        {
          "output_type": "display_data",
          "data": {
            "image/png": "[encoded data removed]",
            "text/plain": [
              "<matplotlib.figure.Figure at 0x7f62bbe43e10>"
            ]
          },
          "metadata": {
            "tags": []
          }
        }
      ]
    },
    {
      "metadata": {
        "id": "TUGvG2I-I6r5",
        "colab_type": "code",
        "colab": {
          "autoexec": {
            "startup": false,
            "wait_interval": 0
          },
          "base_uri": "https://localhost:8080/",
          "height": 250
        },
        "outputId": "69f4eb9e-eb91-4c64-d06b-e06624faff29",
        "executionInfo": {
          "status": "ok",
          "timestamp": 1523474232855,
          "user_tz": -120,
          "elapsed": 12111,
          "user": {
            "displayName": "Michal Maňak",
            "photoUrl": "//lh5.googleusercontent.com/-W_mzq3fRDHk/AAAAAAAAAAI/AAAAAAAAAQY/39YJpez-low/s50-c-k-no/photo.jpg",
            "userId": "100798625638421505769"
          }
        }
      },
      "cell_type": "code",
      "source": [
        "from sklearn.model_selection import train_test_split\n",
        "import pandas as pd\n",
        "\n",
        "train_x, train_y = prepare_data_gmm(60000)\n",
        "train_x, validate_x, train_y, validate_y = train_test_split(train_x, train_y, test_size=0.5, random_state=42)\n",
        "\n",
        "from xgboost import XGBClassifier\n",
        "from sklearn.metrics import accuracy_score, confusion_matrix, classification_report\n",
        "\n",
        "clf = XGBClassifier()\n",
        "clf.fit(train_x, train_y)\n",
        "predictions = clf.predict(validate_x)\n",
        "print(accuracy_score(validate_y, predictions))\n",
        "print(confusion_matrix(validate_y, predictions))\n",
        "print(classification_report(validate_y, predictions))"
      ],
      "execution_count": 35,
      "outputs": [
        {
          "output_type": "stream",
          "text": [
            "0.9997\n",
            "[[14964     2]\n",
            " [    7 15027]]\n",
            "             precision    recall  f1-score   support\n",
            "\n",
            "        0.0       1.00      1.00      1.00     14966\n",
            "        1.0       1.00      1.00      1.00     15034\n",
            "\n",
            "avg / total       1.00      1.00      1.00     30000\n",
            "\n"
          ],
          "name": "stdout"
        },
        {
          "output_type": "stream",
          "text": [
            "/usr/local/lib/python3.6/dist-packages/sklearn/preprocessing/label.py:151: DeprecationWarning: The truth value of an empty array is ambiguous. Returning False, but in future this will result in an error. Use `array.size > 0` to check that an array is not empty.\n",
            "  if diff:\n"
          ],
          "name": "stderr"
        }
      ]
    }
  ]
}