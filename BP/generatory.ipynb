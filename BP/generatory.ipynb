{
 "cells": [
  {
   "cell_type": "code",
   "execution_count": 1,
   "metadata": {},
   "outputs": [
    {
     "name": "stderr",
     "output_type": "stream",
     "text": [
      "/home/ganimedes/anaconda3/lib/python3.6/site-packages/h5py/__init__.py:36: FutureWarning: Conversion of the second argument of issubdtype from `float` to `np.floating` is deprecated. In future, it will be treated as `np.float64 == np.dtype(float).type`.\n",
      "  from ._conv import register_converters as _register_converters\n",
      "Using TensorFlow backend.\n"
     ]
    }
   ],
   "source": [
    "from keras.datasets import mnist\n",
    "from keras.layers import Input, Dense, Conv2D, MaxPooling2D, UpSampling2D\n",
    "from keras.models import Model\n",
    "from keras.callbacks import TensorBoard\n",
    "import numpy as np\n",
    "from keras import backend as K\n",
    "import matplotlib.pyplot as plt\n",
    "from keras.models import load_model\n",
    "from keras.models import model_from_json\n",
    "\n",
    "\n",
    "input_encoder = Input(shape=(28, 28, 1))\n",
    "input_decoder = Input(shape=(4, 4, 4))\n",
    "\n",
    "\n",
    "def custom_activation(x):\n",
    "    return (K.sigmoid(x) * 3) \n",
    "\n",
    "with open('decoder.json', 'r') as f:\n",
    "    decoder = model_from_json(f.read())\n",
    "    decoder.load_weights(\"decoder.h5\")\n",
    "    \n",
    "with open('encoder.json', 'r') as f:\n",
    "    encoder = model_from_json(f.read())\n",
    "    encoder.load_weights(\"encoder.h5\")\n",
    "    \n",
    "with open('autoencoder.json', 'r') as f:\n",
    "    autoencoder = model_from_json(f.read())\n",
    "    autoencoder.load_weights(\"autoencoder.h5\")\n",
    "    \n",
    "with open('generator.json', 'r') as f:\n",
    "    generator = model_from_json(f.read(), {'custom_activation': custom_activation})\n",
    "    generator.load_weights(\"generator.h5\")\n",
    "\n",
    "with open('discriminator.json', 'r') as f:\n",
    "    discriminator = model_from_json(f.read())\n",
    "    discriminator.load_weights(\"discriminator.h5\")"
   ]
  },
  {
   "cell_type": "code",
   "execution_count": 2,
   "metadata": {},
   "outputs": [],
   "source": [
    "(x_train, y_train), (x_test, _) = mnist.load_data()\n",
    "\n",
    "x_train = x_train.astype('float32') / 255.\n",
    "x_train = np.reshape(x_train, (len(x_train), 28, 28, 1))\n",
    "\n",
    "x_train = encoder.predict(x_train)"
   ]
  },
  {
   "cell_type": "code",
   "execution_count": 3,
   "metadata": {},
   "outputs": [
    {
     "name": "stdout",
     "output_type": "stream",
     "text": [
      "(60000, 4, 4, 4)\n",
      "(60000,)\n"
     ]
    }
   ],
   "source": [
    "print(x_train.shape)\n",
    "print(y_train.shape)"
   ]
  },
  {
   "cell_type": "code",
   "execution_count": 4,
   "metadata": {},
   "outputs": [
    {
     "name": "stdout",
     "output_type": "stream",
     "text": [
      "(64, 5923)\n"
     ]
    },
    {
     "data": {
      "image/png": "[encoded data removed]",
      "text/plain": [
       "<matplotlib.figure.Figure at 0x7f8e880af2e8>"
      ]
     },
     "metadata": {},
     "output_type": "display_data"
    }
   ],
   "source": [
    "plot = [[] for a in range(64)]\n",
    "for a, b in zip(x_train, y_train):\n",
    "    if b == 0:\n",
    "        a = a.flatten()\n",
    "        for x in range(64):\n",
    "            plot[x].append(a[x])\n",
    "#plot = np.array(plot)\n",
    "#plot = plot.flatten()\n",
    "#plt.xlim(0, 4)\n",
    "#plt.hist(plot, normed=True, bins=20)\n",
    "#plt.show()\n",
    "\n",
    "plot = np.array(plot)\n",
    "print(plot.shape)\n",
    "n = 10\n",
    "plt.figure(figsize=(20, 4))\n",
    "for i in range(n):\n",
    "    ax = plt.subplot(2, n, i + 1)\n",
    "    img = [np.random.choice(plot[a], 1) for a in range(64)]\n",
    "    img = np.array(img)\n",
    "    img = decoder.predict(img.reshape(1, 4, 4, 4)).reshape(28, 28)\n",
    "    plt.imshow(img)\n",
    "    ax.get_xaxis().set_visible(False)\n",
    "    ax.get_yaxis().set_visible(False)\n",
    "    plt.gray()\n",
    "plt.show()"
   ]
  },
  {
   "cell_type": "code",
   "execution_count": 5,
   "metadata": {},
   "outputs": [
    {
     "name": "stdout",
     "output_type": "stream",
     "text": [
      "(64, 60000)\n"
     ]
    },
    {
     "data": {
      "image/png": "[encoded data removed]",
      "text/plain": [
       "<matplotlib.figure.Figure at 0x7f8eec281278>"
      ]
     },
     "metadata": {},
     "output_type": "display_data"
    }
   ],
   "source": [
    "plot = [[] for a in range(64)]\n",
    "for a, b in zip(x_train, y_train):\n",
    "    a = a.flatten()\n",
    "    for x in range(64):\n",
    "        plot[x].append(a[x])\n",
    "\n",
    "#plot = np.array(plot[20])\n",
    "#plot = plot.flatten()\n",
    "#plt.xlim(0, 4)\n",
    "#plt.hist(plot, normed=True, bins=20)\n",
    "#plt.show()\n",
    "\n",
    "plot = np.array(plot)\n",
    "print(plot.shape)\n",
    "n = 10\n",
    "plt.figure(figsize=(20, 4))\n",
    "for i in range(n):\n",
    "    ax = plt.subplot(2, n, i + 1)\n",
    "    img = [np.random.choice(plot[a], 1) for a in range(64)]\n",
    "    img = np.array(img)\n",
    "    img = decoder.predict(img.reshape(1, 4, 4, 4)).reshape(28, 28)\n",
    "    plt.imshow(img)\n",
    "    ax.get_xaxis().set_visible(False)\n",
    "    ax.get_yaxis().set_visible(False)\n",
    "    plt.gray()\n",
    "plt.show()\n"
   ]
  },
  {
   "cell_type": "code",
   "execution_count": 6,
   "metadata": {},
   "outputs": [],
   "source": [
    "from sklearn import mixture\n",
    "\n",
    "(x_train, y_train), (x_test, _) = mnist.load_data()\n",
    "\n",
    "x_train = x_train.astype('float32') / 255.\n",
    "x_train = np.reshape(x_train, (len(x_train), 28, 28, 1))\n",
    "\n",
    "x_train = encoder.predict(x_train)"
   ]
  },
  {
   "cell_type": "code",
   "execution_count": 7,
   "metadata": {},
   "outputs": [
    {
     "name": "stdout",
     "output_type": "stream",
     "text": [
      "(60000, 4, 4, 4)\n"
     ]
    }
   ],
   "source": [
    "print(x_train.shape)"
   ]
  },
  {
   "cell_type": "code",
   "execution_count": 8,
   "metadata": {},
   "outputs": [],
   "source": [
    "x_train = x_train.reshape(60000, 64)"
   ]
  },
  {
   "cell_type": "code",
   "execution_count": null,
   "metadata": {},
   "outputs": [],
   "source": [
    "clf = mixture.GaussianMixture(n_components=10, covariance_type='full')\n",
    "clf.fit(x_train)"
   ]
  },
  {
   "cell_type": "code",
   "execution_count": null,
   "metadata": {},
   "outputs": [],
   "source": [
    "a = clf.sample(20)\n",
    "sample = np.array(a[0])\n",
    "print(sample.shape)"
   ]
  },
  {
   "cell_type": "code",
   "execution_count": null,
   "metadata": {},
   "outputs": [],
   "source": [
    "n = 10\n",
    "plt.figure(figsize=(20, 4))\n",
    "for i in range(n):\n",
    "    ax = plt.subplot(2, n, i + 1)\n",
    "    img = decoder.predict(np.array((clf.sample(1))[0]).reshape(1, 4, 4, 4)).reshape(28, 28)\n",
    "    plt.imshow(img)\n",
    "    ax.get_xaxis().set_visible(False)\n",
    "    ax.get_yaxis().set_visible(False)\n",
    "    plt.gray()\n",
    "plt.show()"
   ]
  },
  {
   "cell_type": "code",
   "execution_count": 9,
   "metadata": {},
   "outputs": [],
   "source": [
    "from sklearn import mixture\n",
    "\n",
    "(x_train, y_train), (x_test, _) = mnist.load_data()\n",
    "\n",
    "x_train = x_train.astype('float32') / 255.\n",
    "x_train = np.reshape(x_train, (len(x_train), 28, 28, 1))\n",
    "\n",
    "x_train = encoder.predict(x_train)\n",
    "\n",
    "data_gmm = x_train.reshape(x_train.shape[0], -1)\n",
    "\n",
    "clf = []\n",
    "for i in range(10):\n",
    "    clf.append(mixture.GaussianMixture(n_components=10, covariance_type='full'))\n",
    "    result = []\n",
    "    for a, b in zip(data_gmm, y_train):\n",
    "        if b == i:\n",
    "            result.append(a)\n",
    "    data_train = np.array(result)\n",
    "    clf[i].fit(data_train)"
   ]
  },
  {
   "cell_type": "code",
   "execution_count": 10,
   "metadata": {},
   "outputs": [
    {
     "data": {
      "image/png": "[encoded data removed]",
      "text/plain": [
       "<matplotlib.figure.Figure at 0x7f8e8075a0b8>"
      ]
     },
     "metadata": {},
     "output_type": "display_data"
    },
    {
     "data": {
      "image/png": "[encoded data removed]",
      "text/plain": [
       "<matplotlib.figure.Figure at 0x7f8e80139278>"
      ]
     },
     "metadata": {},
     "output_type": "display_data"
    },
    {
     "data": {
      "image/png": "[encoded data removed]",
      "text/plain": [
       "<matplotlib.figure.Figure at 0x7f8e361c07f0>"
      ]
     },
     "metadata": {},
     "output_type": "display_data"
    }
   ],
   "source": [
    "def gmm_generator(samples_count, class_type):\n",
    "    a = clf[class_type].sample(samples_count)\n",
    "    sample = np.array(a[0])\n",
    "    return sample\n",
    "\n",
    "\n",
    "def cluster_per_feature_class_generator(samples_count, class_type):\n",
    "    data = x_train.reshape(x_train.shape[0], -1)\n",
    "    result = []\n",
    "    for a, b in zip(data, y_train):\n",
    "        if b == class_type:\n",
    "            result.append(a)\n",
    "    data = np.array(result).T\n",
    "    result = []\n",
    "    for a in data:\n",
    "        result.append(np.random.choice(a, samples_count))\n",
    "    result = np.array(result)\n",
    "    result = result.T\n",
    "    return result\n",
    "            \n",
    "def cluster_per_feature_generator(samples_count):\n",
    "    data = x_train.reshape(x_train.shape[0], -1)\n",
    "    data = data.T\n",
    "    result = []\n",
    "    for a in data:\n",
    "        result.append(np.random.choice(a, samples_count))\n",
    "    result = np.array(result)\n",
    "    result = result.T\n",
    "    return result\n",
    "\n",
    "\n",
    "n = 10\n",
    "plt.figure(figsize=(20, 4))\n",
    "for i in range(n):\n",
    "    ax = plt.subplot(2, n, i + 1)\n",
    "    img = decoder.predict(gmm_generator(1, 1).reshape(1, 4, 4, 4)).reshape(28, 28)\n",
    "    plt.imshow(img)\n",
    "    ax.get_xaxis().set_visible(False)\n",
    "    ax.get_yaxis().set_visible(False)\n",
    "    plt.gray()\n",
    "plt.show()\n",
    "\n",
    "n = 10\n",
    "plt.figure(figsize=(20, 4))\n",
    "for i in range(n):\n",
    "    ax = plt.subplot(2, n, i + 1)\n",
    "    img = decoder.predict(cluster_per_feature_class_generator(1, 8).reshape(1, 4, 4, 4)).reshape(28, 28)\n",
    "    plt.imshow(img)\n",
    "    ax.get_xaxis().set_visible(False)\n",
    "    ax.get_yaxis().set_visible(False)\n",
    "    plt.gray()\n",
    "plt.show()\n",
    "\n",
    "n = 10\n",
    "plt.figure(figsize=(20, 4))\n",
    "for i in range(n):\n",
    "    ax = plt.subplot(2, n, i + 1)\n",
    "    img = decoder.predict(cluster_per_feature_generator(1).reshape(1, 4, 4, 4)).reshape(28, 28)\n",
    "    plt.imshow(img)\n",
    "    ax.get_xaxis().set_visible(False)\n",
    "    ax.get_yaxis().set_visible(False)\n",
    "    plt.gray()\n",
    "plt.show()"
   ]
  },
  {
   "cell_type": "code",
   "execution_count": 11,
   "metadata": {},
   "outputs": [],
   "source": [
    "generator_count = 4\n",
    "\n",
    "real_x = x_train.reshape(x_train.shape[0], -1)\n",
    "\n",
    "def prepare_data_same_ratio_of_generators(dim):\n",
    "    samples_per_generator_count = dim // generator_count\n",
    "    data_x = np.concatenate([real_x[:samples_per_generator_count], cluster_per_feature_generator(samples_per_generator_count)])\n",
    "    for _class in range(10):\n",
    "        data_x = np.concatenate([data_x, gmm_generator(samples_per_generator_count // 10, _class), cluster_per_feature_class_generator(samples_per_generator_count // 10, _class)])\n",
    "    data_y = np.concatenate([np.ones(samples_per_generator_count), np.zeros((generator_count - 1)*samples_per_generator_count)])\n",
    "    s = np.arange(data_x.shape[0])\n",
    "    np.random.shuffle(s)\n",
    "    return data_x[s], data_y[s]\n",
    "\n",
    "def prepare_data_same_count_of_fakes_to_real(dim):\n",
    "    samples_per_generator_count = (dim // 2) // (generator_count - 1)\n",
    "    data_x = np.concatenate([real_x[:dim // 2], cluster_per_feature_generator(samples_per_generator_count)])\n",
    "    for _class in range(10):\n",
    "        data_x = np.concatenate([data_x, gmm_generator(samples_per_generator_count // 10, _class), cluster_per_feature_class_generator(samples_per_generator_count // 10, _class)])\n",
    "    data_y = np.concatenate([np.ones(dim // 2), np.zeros(dim // 2)])\n",
    "    s = np.arange(data_x.shape[0])\n",
    "    np.random.shuffle(s)\n",
    "    return data_x[s], data_y[s]\n",
    "    "
   ]
  },
  {
   "cell_type": "code",
   "execution_count": null,
   "metadata": {},
   "outputs": [],
   "source": [
    "train_x, train_y = prepare_data_same_ratio_of_generators(60000)\n",
    "validate_x, validate_y = prepare_data_same_ratio_of_generators(10000)"
   ]
  },
  {
   "cell_type": "code",
   "execution_count": null,
   "metadata": {},
   "outputs": [],
   "source": [
    "from sklearn.discriminant_analysis import LinearDiscriminantAnalysis\n",
    "from sklearn.tree import DecisionTreeClassifier\n",
    "from sklearn.svm import SVC\n",
    "from sklearn.metrics import accuracy_score, confusion_matrix, classification_report\n",
    "\n",
    "clf = SVC()\n",
    "clf.fit(train_x, train_y)\n",
    "predictions = clf.predict(validate_x)\n",
    "print(accuracy_score(validate_y, predictions))\n",
    "print(confusion_matrix(validate_y, predictions))\n",
    "print(classification_report(validate_y, predictions))\n",
    "\n",
    "clf = discriminator\n",
    "predictions = clf.predict(validate_x)\n",
    "print(predictions)\n",
    "predictions = np.round(predictions, 0)\n",
    "print(predictions)\n",
    "print(accuracy_score(validate_y, predictions))\n",
    "print(confusion_matrix(validate_y, predictions))\n",
    "print(classification_report(validate_y, predictions))"
   ]
  },
  {
   "cell_type": "code",
   "execution_count": 12,
   "metadata": {},
   "outputs": [],
   "source": [
    "train_x, train_y = prepare_data_same_count_of_fakes_to_real(60000)\n",
    "validate_x, validate_y = prepare_data_same_count_of_fakes_to_real(10000)"
   ]
  },
  {
   "cell_type": "code",
   "execution_count": 13,
   "metadata": {},
   "outputs": [
    {
     "name": "stdout",
     "output_type": "stream",
     "text": [
      "0.83026236731424\n",
      "[[3291 1695]\n",
      " [   0 5000]]\n",
      "             precision    recall  f1-score   support\n",
      "\n",
      "        0.0       1.00      0.66      0.80      4986\n",
      "        1.0       0.75      1.00      0.86      5000\n",
      "\n",
      "avg / total       0.87      0.83      0.83      9986\n",
      "\n",
      "[[0.42442426]\n",
      " [0.47409132]\n",
      " [0.17689137]\n",
      " ...\n",
      " [0.4361495 ]\n",
      " [0.18152593]\n",
      " [0.6279709 ]]\n",
      "[[0.]\n",
      " [0.]\n",
      " [0.]\n",
      " ...\n",
      " [0.]\n",
      " [0.]\n",
      " [1.]]\n",
      "0.7031844582415382\n",
      "[[4436  550]\n",
      " [2414 2586]]\n",
      "             precision    recall  f1-score   support\n",
      "\n",
      "        0.0       0.65      0.89      0.75      4986\n",
      "        1.0       0.82      0.52      0.64      5000\n",
      "\n",
      "avg / total       0.74      0.70      0.69      9986\n",
      "\n"
     ]
    }
   ],
   "source": [
    "from sklearn.discriminant_analysis import LinearDiscriminantAnalysis\n",
    "from sklearn.tree import DecisionTreeClassifier\n",
    "from sklearn.svm import SVC\n",
    "from sklearn.metrics import accuracy_score, confusion_matrix, classification_report\n",
    "\n",
    "clf = SVC()\n",
    "clf.fit(train_x, train_y)\n",
    "predictions = clf.predict(validate_x)\n",
    "print(accuracy_score(validate_y, predictions))\n",
    "print(confusion_matrix(validate_y, predictions))\n",
    "print(classification_report(validate_y, predictions))\n",
    "\n",
    "clf = discriminator\n",
    "predictions = clf.predict(validate_x)\n",
    "print(predictions)\n",
    "predictions = np.round(predictions, 0)\n",
    "print(predictions)\n",
    "print(accuracy_score(validate_y, predictions))\n",
    "print(confusion_matrix(validate_y, predictions))\n",
    "print(classification_report(validate_y, predictions))"
   ]
  },
  {
   "cell_type": "code",
   "execution_count": 17,
   "metadata": {},
   "outputs": [
    {
     "name": "stdout",
     "output_type": "stream",
     "text": [
      "Train on 60000 samples, validate on 9986 samples\n",
      "Epoch 1/30\n",
      "60000/60000 [==============================] - 4s - loss: 0.2464 - val_loss: 0.2615\n",
      "Epoch 2/30\n",
      "60000/60000 [==============================] - 3s - loss: 0.2377 - val_loss: 0.2530\n",
      "Epoch 3/30\n",
      "60000/60000 [==============================] - 3s - loss: 0.2308 - val_loss: 0.2430\n",
      "Epoch 4/30\n",
      "60000/60000 [==============================] - 3s - loss: 0.2239 - val_loss: 0.2386\n",
      "Epoch 5/30\n",
      "60000/60000 [==============================] - 3s - loss: 0.2180 - val_loss: 0.2378\n",
      "Epoch 6/30\n",
      "60000/60000 [==============================] - 3s - loss: 0.2130 - val_loss: 0.2740\n",
      "Epoch 7/30\n",
      "60000/60000 [==============================] - 3s - loss: 0.2073 - val_loss: 0.2332\n",
      "Epoch 8/30\n",
      "60000/60000 [==============================] - 3s - loss: 0.2020 - val_loss: 0.2196\n",
      "Epoch 9/30\n",
      "60000/60000 [==============================] - 3s - loss: 0.1962 - val_loss: 0.2187\n",
      "Epoch 10/30\n",
      "60000/60000 [==============================] - 3s - loss: 0.1921 - val_loss: 0.2149\n",
      "Epoch 11/30\n",
      "60000/60000 [==============================] - 3s - loss: 0.1872 - val_loss: 0.2181\n",
      "Epoch 12/30\n",
      "60000/60000 [==============================] - 3s - loss: 0.1826 - val_loss: 0.2090\n",
      "Epoch 13/30\n",
      "60000/60000 [==============================] - 3s - loss: 0.1785 - val_loss: 0.2275\n",
      "Epoch 14/30\n",
      "60000/60000 [==============================] - 3s - loss: 0.1737 - val_loss: 0.2072\n",
      "Epoch 15/30\n",
      "60000/60000 [==============================] - 3s - loss: 0.1696 - val_loss: 0.2323\n",
      "Epoch 16/30\n",
      "60000/60000 [==============================] - 4s - loss: 0.1659 - val_loss: 0.2040\n",
      "Epoch 17/30\n",
      "60000/60000 [==============================] - 3s - loss: 0.1609 - val_loss: 0.1913\n",
      "Epoch 18/30\n",
      "60000/60000 [==============================] - 3s - loss: 0.1571 - val_loss: 0.1844\n",
      "Epoch 19/30\n",
      "60000/60000 [==============================] - 3s - loss: 0.1537 - val_loss: 0.1871\n",
      "Epoch 20/30\n",
      "60000/60000 [==============================] - 3s - loss: 0.1519 - val_loss: 0.1924\n",
      "Epoch 21/30\n",
      "60000/60000 [==============================] - 4s - loss: 0.1470 - val_loss: 0.1879\n",
      "Epoch 22/30\n",
      "60000/60000 [==============================] - 3s - loss: 0.1430 - val_loss: 0.1818\n",
      "Epoch 23/30\n",
      "60000/60000 [==============================] - 4s - loss: 0.1396 - val_loss: 0.2024\n",
      "Epoch 24/30\n",
      "60000/60000 [==============================] - 3s - loss: 0.1380 - val_loss: 0.1755\n",
      "Epoch 25/30\n",
      "60000/60000 [==============================] - 3s - loss: 0.1340 - val_loss: 0.1795\n",
      "Epoch 26/30\n",
      "60000/60000 [==============================] - 3s - loss: 0.1320 - val_loss: 0.1807\n",
      "Epoch 27/30\n",
      "60000/60000 [==============================] - 3s - loss: 0.1289 - val_loss: 0.1773\n",
      "Epoch 28/30\n",
      "60000/60000 [==============================] - 3s - loss: 0.1264 - val_loss: 0.1746\n",
      "Epoch 29/30\n",
      "60000/60000 [==============================] - 3s - loss: 0.1234 - val_loss: 0.1659\n",
      "Epoch 30/30\n",
      "60000/60000 [==============================] - 4s - loss: 0.1208 - val_loss: 0.1823\n"
     ]
    },
    {
     "data": {
      "text/plain": [
       "<keras.callbacks.History at 0x7f8e180bea20>"
      ]
     },
     "execution_count": 17,
     "metadata": {},
     "output_type": "execute_result"
    }
   ],
   "source": [
    "clf.compile(optimizer='adadelta', loss='binary_crossentropy')\n",
    "clf.fit(train_x, train_y,\n",
    "                epochs=30,\n",
    "                batch_size=128,\n",
    "                shuffle=True,\n",
    "                validation_data=(validate_x, validate_y))"
   ]
  },
  {
   "cell_type": "code",
   "execution_count": 18,
   "metadata": {},
   "outputs": [
    {
     "name": "stdout",
     "output_type": "stream",
     "text": [
      "[[9.9735200e-01]\n",
      " [7.4263155e-01]\n",
      " [1.1906795e-05]\n",
      " ...\n",
      " [8.6165988e-01]\n",
      " [1.3522867e-05]\n",
      " [9.7655767e-01]]\n",
      "[[1.]\n",
      " [1.]\n",
      " [0.]\n",
      " ...\n",
      " [1.]\n",
      " [0.]\n",
      " [1.]]\n",
      "0.9286000400560785\n",
      "[[4535  451]\n",
      " [ 262 4738]]\n",
      "             precision    recall  f1-score   support\n",
      "\n",
      "        0.0       0.95      0.91      0.93      4986\n",
      "        1.0       0.91      0.95      0.93      5000\n",
      "\n",
      "avg / total       0.93      0.93      0.93      9986\n",
      "\n"
     ]
    }
   ],
   "source": [
    "predictions = clf.predict(validate_x)\n",
    "print(predictions)\n",
    "predictions = np.round(predictions, 0)\n",
    "print(predictions)\n",
    "print(accuracy_score(validate_y, predictions))\n",
    "print(confusion_matrix(validate_y, predictions))\n",
    "print(classification_report(validate_y, predictions))"
   ]
  },
  {
   "cell_type": "code",
   "execution_count": 19,
   "metadata": {},
   "outputs": [
    {
     "name": "stdout",
     "output_type": "stream",
     "text": [
      "0.946525135189265\n",
      "[[4452  534]\n",
      " [   0 5000]]\n",
      "             precision    recall  f1-score   support\n",
      "\n",
      "        0.0       1.00      0.89      0.94      4986\n",
      "        1.0       0.90      1.00      0.95      5000\n",
      "\n",
      "avg / total       0.95      0.95      0.95      9986\n",
      "\n"
     ]
    }
   ],
   "source": [
    "clf = DecisionTreeClassifier()\n",
    "clf.fit(train_x, train_y)\n",
    "predictions = clf.predict(validate_x)\n",
    "print(accuracy_score(validate_y, predictions))\n",
    "print(confusion_matrix(validate_y, predictions))\n",
    "print(classification_report(validate_y, predictions))"
   ]
  },
  {
   "cell_type": "code",
   "execution_count": null,
   "metadata": {},
   "outputs": [],
   "source": []
  }
 ],
 "metadata": {
  "kernelspec": {
   "display_name": "Python 3.6",
   "language": "python",
   "name": "python3.6"
  },
  "language_info": {
   "codemirror_mode": {
    "name": "ipython",
    "version": 3
   },
   "file_extension": ".py",
   "mimetype": "text/x-python",
   "name": "python",
   "nbconvert_exporter": "python",
   "pygments_lexer": "ipython3",
   "version": "3.6.4"
  }
 },
 "nbformat": 4,
 "nbformat_minor": 2
}
